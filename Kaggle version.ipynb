{
 "cells": [
  {
   "cell_type": "markdown",
   "metadata": {
    "id": "sy5Z7hq0Wzyu"
   },
   "source": [
    "#Import Libraries"
   ]
  },
  {
   "cell_type": "code",
   "execution_count": null,
   "metadata": {
    "executionInfo": {
     "elapsed": 1866,
     "status": "ok",
     "timestamp": 1630685033938,
     "user": {
      "displayName": "AADIT DESHPANDE",
      "photoUrl": "https://lh3.googleusercontent.com/a-/AOh14GiUF76GxlV9YoyNoSepBP0uU3cinZ-FV0vO8Hx-Sw=s64",
      "userId": "04391541240953945395"
     },
     "user_tz": -330
    },
    "id": "X5t5FoQHXQx7"
   },
   "outputs": [],
   "source": [
    "import os\n",
    "import imageio\n",
    "\n",
    "import numpy as np\n",
    "import pandas as pd\n",
    "import matplotlib.pyplot as plt\n",
    "\n",
    "import tensorflow as tf\n",
    "from tensorflow import keras"
   ]
  },
  {
   "cell_type": "markdown",
   "metadata": {
    "id": "Zm5VTwQ9BOqV"
   },
   "source": [
    "# Image Paths, Directories"
   ]
  },
  {
   "cell_type": "code",
   "execution_count": null,
   "metadata": {},
   "outputs": [],
   "source": [
    "# Set the image paths\n",
    "images_dir = './Water Bodies Dataset/Images'\n",
    "masks_dir = './Water Bodies Dataset/Masks'\n",
    "\n",
    "dirname, _, filenames = next(os.walk(images_dir))\n"
   ]
  },
  {
   "cell_type": "code",
   "execution_count": null,
   "metadata": {},
   "outputs": [],
   "source": [
    "@tf.function\n",
    "def load_img_with_mask(image_path, images_dir : str = \"Images\", masks_dir : str = \"Masks\",\n",
    "                       images_extension : str = \"jpg\", masks_extension: str = \"jpg\") -> dict:\n",
    "    image = tf.io.read_file(image_path)\n",
    "    image = tf.image.decode_jpeg(image, channels = 3)\n",
    "    \n",
    "    mask_filename = tf.strings.regex_replace(image_path, images_dir, masks_dir)\n",
    "    mask_filename = tf.strings.regex_replace(mask_filename, images_extension, masks_extension)\n",
    "    mask = tf.io.read_file(mask_filename)\n",
    "    mask = tf.image.decode_image(mask, channels = 3, expand_animations = False)\n",
    "    \n",
    "    return (image, mask)\n"
   ]
  },
  {
   "cell_type": "code",
   "execution_count": null,
   "metadata": {},
   "outputs": [],
   "source": [
    "n = 3\n",
    "examples = [load_img_with_mask(   os.path.join(images_dir, filenames[i]) ) for i in range(n)  ]\n",
    "\n",
    "fig, axs = plt.subplots(n, 2, figsize = (14, 7*n), constrained_layout = True)\n",
    "for ax, (image, mask) in zip(axs, examples):\n",
    "    ax[0].imshow(image)\n",
    "    ax[0].set_title(\"Image\")\n",
    "    ax[1].imshow(mask)\n",
    "    ax[1].set_title(\"Mask\")"
   ]
  },
  {
   "cell_type": "markdown",
   "metadata": {
    "executionInfo": {
     "elapsed": 448,
     "status": "ok",
     "timestamp": 1630687174173,
     "user": {
      "displayName": "AADIT DESHPANDE",
      "photoUrl": "https://lh3.googleusercontent.com/a-/AOh14GiUF76GxlV9YoyNoSepBP0uU3cinZ-FV0vO8Hx-Sw=s64",
      "userId": "04391541240953945395"
     },
     "user_tz": -330
    },
    "id": "1xHjoiQbZWvR"
   },
   "source": [
    "# Image Preprocessing"
   ]
  },
  {
   "cell_type": "code",
   "execution_count": null,
   "metadata": {},
   "outputs": [],
   "source": [
    "@tf.function\n",
    "def resize_images(images, masks):\n",
    "    target_height, target_width = 128, 128\n",
    "    images = tf.cast(images, tf.float32)\n",
    "    masks = tf.cast(masks, tf.float32)\n",
    "    images = tf.image.resize(images, (target_height, target_width), method=tf.image.ResizeMethod.NEAREST_NEIGHBOR)\n",
    "    masks = tf.image.resize(masks, (target_height, target_width), method=tf.image.ResizeMethod.NEAREST_NEIGHBOR)\n",
    "    return (images, masks)\n",
    "\n",
    "def scale_values(images, masks, mask_split_threshold = 128):\n",
    "    images = tf.math.divide(images, 255)\n",
    "    masks = tf.where(masks > mask_split_threshold, 1, 0)\n",
    "    return (images, masks)"
   ]
  },
  {
   "cell_type": "code",
   "execution_count": null,
   "metadata": {},
   "outputs": [],
   "source": [
    "batch_size = 32\n",
    "test_set_size = 300\n",
    "validation_set_size =  250\n",
    "\n",
    "dataset = tf.data.Dataset.list_files(images_dir+'/*.jpg', seed = 42)\n",
    "\n",
    "test_dataset = dataset.take(test_set_size)\n",
    "dataset = dataset.skip(test_set_size)\n",
    "\n",
    "test_dataset = test_dataset.map(load_img_with_mask)\n",
    "test_dataset = test_dataset.map(scale_values)\n",
    "test_dataset = test_dataset.shuffle(20)\n",
    "test_dataset = test_dataset.map(resize_images)\n",
    "test_dataset = test_dataset.batch(1).prefetch(5)\n",
    "\n",
    "validation_dataset = dataset.take(validation_set_size)\n",
    "train_dataset = dataset.skip(validation_set_size)\n",
    "validation_dataset = validation_dataset.map(load_img_with_mask)\n",
    "validation_dataset = validation_dataset.map(scale_values)\n",
    "validation_dataset = validation_dataset.shuffle(20)\n",
    "validation_dataset = validation_dataset.map(resize_images)\n",
    "validation_dataset = validation_dataset.batch(1).prefetch(5)\n",
    "\n",
    "train_dataset = train_dataset.map(load_img_with_mask)\n",
    "train_dataset = train_dataset.map(scale_values)\n",
    "train_dataset = train_dataset.shuffle(20)\n",
    "train_dataset = train_dataset.map(resize_images)\n",
    "train_dataset = train_dataset.batch(1).prefetch(5)\n"
   ]
  },
  {
   "cell_type": "markdown",
   "metadata": {
    "id": "EKcH_uiZn9_M"
   },
   "source": [
    "# U-Net Model"
   ]
  },
  {
   "cell_type": "code",
   "execution_count": null,
   "metadata": {
    "executionInfo": {
     "elapsed": 534,
     "status": "ok",
     "timestamp": 1630691934488,
     "user": {
      "displayName": "AADIT DESHPANDE",
      "photoUrl": "https://lh3.googleusercontent.com/a-/AOh14GiUF76GxlV9YoyNoSepBP0uU3cinZ-FV0vO8Hx-Sw=s64",
      "userId": "04391541240953945395"
     },
     "user_tz": -330
    },
    "id": "Ft1X0ZIartYZ"
   },
   "outputs": [],
   "source": [
    "def conv_block(inputs, n_filters, max_Pooling = True):\n",
    "  conv = keras.layers.Conv2D(n_filters, kernel_size = 3, activation= 'relu', padding='same', kernel_initializer='he_normal')(inputs)\n",
    "  conv = keras.layers.Conv2D(n_filters, kernel_size = 3, activation= 'relu', padding='same', kernel_initializer='he_normal')(conv)\n",
    "  \n",
    "  if max_Pooling:\n",
    "    down_output = keras.layers.MaxPooling2D(pool_size=(2,2))(conv)\n",
    "  else:\n",
    "    down_output = conv\n",
    "  skip_output = conv\n",
    "\n",
    "  return down_output, skip_output\n",
    "\n",
    "\n"
   ]
  },
  {
   "cell_type": "code",
   "execution_count": null,
   "metadata": {
    "executionInfo": {
     "elapsed": 4,
     "status": "ok",
     "timestamp": 1630691934488,
     "user": {
      "displayName": "AADIT DESHPANDE",
      "photoUrl": "https://lh3.googleusercontent.com/a-/AOh14GiUF76GxlV9YoyNoSepBP0uU3cinZ-FV0vO8Hx-Sw=s64",
      "userId": "04391541240953945395"
     },
     "user_tz": -330
    },
    "id": "989mhcT8sr1X"
   },
   "outputs": [],
   "source": [
    "def up_block(up_input, skip_input, n_filters):\n",
    "  up = keras.layers.Conv2DTranspose(n_filters, kernel_size=3, strides = (2,2), padding = 'same')(up_input)\n",
    "  sum = keras.layers.concatenate([up, skip_input], axis= 3)\n",
    "\n",
    "  conv = keras.layers.Conv2D(n_filters, kernel_size = 3, activation= 'relu', padding='same', kernel_initializer='he_normal')(sum)\n",
    "  conv = keras.layers.Conv2D(n_filters, kernel_size = 3, activation= 'relu', padding='same', kernel_initializer='he_normal')(conv)\n",
    "\n",
    "  return conv"
   ]
  },
  {
   "cell_type": "code",
   "execution_count": null,
   "metadata": {
    "executionInfo": {
     "elapsed": 4,
     "status": "ok",
     "timestamp": 1630691934489,
     "user": {
      "displayName": "AADIT DESHPANDE",
      "photoUrl": "https://lh3.googleusercontent.com/a-/AOh14GiUF76GxlV9YoyNoSepBP0uU3cinZ-FV0vO8Hx-Sw=s64",
      "userId": "04391541240953945395"
     },
     "user_tz": -330
    },
    "id": "LbgDMEUeuGj2"
   },
   "outputs": [],
   "source": [
    "def unet_model(input_size , n_filters, n_classes):\n",
    "  inputs = keras.layers.Input(input_size)\n",
    "\n",
    "  down_block_1 = conv_block(inputs, n_filters, max_Pooling=True)\n",
    "  down_block_2 = conv_block(down_block_1[0], n_filters*2, max_Pooling=True)\n",
    "  down_block_3 = conv_block(down_block_2[0], n_filters*4, max_Pooling=True)\n",
    "  down_block_4 = conv_block(down_block_3[0], n_filters*8, max_Pooling=True)\n",
    "  down_block_5 = conv_block(down_block_4[0], n_filters*16, max_Pooling=False)\n",
    "\n",
    "  up_block_6 = up_block(down_block_5[0], down_block_4[1], n_filters*8)\n",
    "  up_block_7 = up_block(up_block_6, down_block_3[1], n_filters*4)\n",
    "  up_block_8 = up_block(up_block_7, down_block_2[1], n_filters*2)\n",
    "  up_block_9 = up_block(up_block_8, down_block_1[1], n_filters)\n",
    "\n",
    "  conv_9 = keras.layers.Conv2D(n_filters, kernel_size = 3, activation= 'relu', padding='same', kernel_initializer='he_normal')(up_block_9)\n",
    "\n",
    "  conv_10 = keras.layers.Conv2D(n_classes, kernel_size = 1, activation = 'sigmoid')(conv_9)\n",
    "\n",
    "  model = keras.Model(inputs = inputs, outputs= conv_10)\n",
    "\n",
    "  return model"
   ]
  },
  {
   "cell_type": "code",
   "execution_count": null,
   "metadata": {
    "executionInfo": {
     "elapsed": 985,
     "status": "ok",
     "timestamp": 1630691935470,
     "user": {
      "displayName": "AADIT DESHPANDE",
      "photoUrl": "https://lh3.googleusercontent.com/a-/AOh14GiUF76GxlV9YoyNoSepBP0uU3cinZ-FV0vO8Hx-Sw=s64",
      "userId": "04391541240953945395"
     },
     "user_tz": -330
    },
    "id": "CWEyHA9zwqvX"
   },
   "outputs": [],
   "source": [
    "model = unet_model(input_size=(128, 128, 3), n_filters= 32, n_classes= 3)"
   ]
  },
  {
   "cell_type": "code",
   "execution_count": null,
   "metadata": {},
   "outputs": [],
   "source": [
    "model.summary()"
   ]
  },
  {
   "cell_type": "code",
   "execution_count": null,
   "metadata": {},
   "outputs": [],
   "source": [
    "model.compile(optimizer = 'adam', \n",
    "              loss='binary_crossentropy',\n",
    "              metrics = ['accuracy'])"
   ]
  },
  {
   "cell_type": "markdown",
   "metadata": {},
   "source": [
    "# Train the model\n"
   ]
  },
  {
   "cell_type": "code",
   "execution_count": null,
   "metadata": {},
   "outputs": [],
   "source": [
    "epochs = 5"
   ]
  },
  {
   "cell_type": "code",
   "execution_count": null,
   "metadata": {
    "scrolled": false
   },
   "outputs": [],
   "source": [
    "checkpoint_path = \"C:/Users/aadit/Google Drive (f20190077@pilani.bits-pilani.ac.in)/Personal Projects/U Nets/Trained Models/cp.ckpt\"\n",
    "checkpoint_dir = os.path.dirname(checkpoint_path)\n",
    "\n",
    "cp_callback = tf.keras.callbacks.ModelCheckpoint(filepath=checkpoint_path,\n",
    "                                                 save_weights_only=True,\n",
    "                                                 verbose=1)\n",
    "\n",
    "\n"
   ]
  },
  {
   "cell_type": "code",
   "execution_count": null,
   "metadata": {},
   "outputs": [],
   "source": [
    "model.fit(train_dataset, validation_data=validation_dataset, epochs=epochs, callbacks=[cp_callback])"
   ]
  },
  {
   "cell_type": "code",
   "execution_count": 128,
   "metadata": {
    "scrolled": true
   },
   "outputs": [
    {
     "data": {
      "text/plain": [
       "['checkpoint', 'cp.ckpt.data-00000-of-00001', 'cp.ckpt.index']"
      ]
     },
     "execution_count": 128,
     "metadata": {},
     "output_type": "execute_result"
    }
   ],
   "source": [
    "os.listdir(checkpoint_dir)"
   ]
  },
  {
   "cell_type": "code",
   "execution_count": 129,
   "metadata": {},
   "outputs": [
    {
     "data": {
      "text/plain": [
       "<tensorflow.python.training.tracking.util.CheckpointLoadStatus at 0x25af5d4b160>"
      ]
     },
     "execution_count": 129,
     "metadata": {},
     "output_type": "execute_result"
    }
   ],
   "source": [
    "model.load_weights(checkpoint_path)"
   ]
  },
  {
   "cell_type": "markdown",
   "metadata": {},
   "source": [
    "# Seeing Results"
   ]
  },
  {
   "cell_type": "code",
   "execution_count": 181,
   "metadata": {
    "scrolled": true
   },
   "outputs": [
    {
     "name": "stdout",
     "output_type": "stream",
     "text": [
      "Raw Prediction  (1, 128, 128, 3)\n",
      "GrayScale  (1, 128, 128, 1)\n",
      "0th  (128, 128, 1)\n",
      "2D  (128, 128)\n"
     ]
    },
    {
     "data": {
      "text/plain": [
       "<matplotlib.image.AxesImage at 0x25a8d5ffe50>"
      ]
     },
     "execution_count": 181,
     "metadata": {},
     "output_type": "execute_result"
    },
    {
     "data": {
      "image/png": "[encoded data removed]",
      "text/plain": [
       "<Figure size 720x360 with 3 Axes>"
      ]
     },
     "metadata": {
      "needs_background": "light"
     },
     "output_type": "display_data"
    }
   ],
   "source": [
    "n = 1\n",
    "examples = test_dataset.take(n)\n",
    "i, m, p = None, None, None\n",
    "\n",
    "threshold = 0.5\n",
    "\n",
    "for (image, mask) in examples:\n",
    "    i = image\n",
    "    m = mask\n",
    "    p_raw = model.predict(image)\n",
    "    p = p_raw[0]\n",
    "    p = tf.where(p>threshold, 255, 0)\n",
    "    print(\"Raw Prediction \",p_raw.shape)\n",
    "    p_gray = tf.image.rgb_to_grayscale(p_raw)\n",
    "    print(\"GrayScale \",p_gray.shape)\n",
    "    p_zero = p_gray[0]\n",
    "    print(\"0th \",p_zero.shape)\n",
    "    p_2D = tf.reshape(p_zero, [p_zero.shape[0], p_zero.shape[1]])\n",
    "    print(\"2D \",p_2D.shape)\n",
    "    \n",
    "    \n",
    "\n",
    "fig, axs = plt.subplots(1, 3, figsize = (10, 5*n))\n",
    "axs[0].imshow(i[0])\n",
    "axs[1].imshow(m[0])\n",
    "axs[2].imshow(p)"
   ]
  },
  {
   "cell_type": "markdown",
   "metadata": {},
   "source": [
    "# Evaluating Performance"
   ]
  },
  {
   "cell_type": "code",
   "execution_count": 184,
   "metadata": {},
   "outputs": [
    {
     "name": "stdout",
     "output_type": "stream",
     "text": [
      "0.609984\n"
     ]
    }
   ],
   "source": [
    "meanIoU = tf.keras.metrics.MeanIoU(num_classes=2)\n",
    "for ele in test_dataset.take(test_set_size):\n",
    "    image, y_true = ele\n",
    "    prediction = model.predict(image)[0]\n",
    "    prediction = tf.where(prediction > 0.5, 1, 0)\n",
    "    meanIoU.update_state(y_true[0], prediction)\n",
    "print(meanIoU.result().numpy())"
   ]
  }
 ],
 "metadata": {
  "accelerator": "GPU",
  "colab": {
   "authorship_tag": "ABX9TyNWNT8uVWXTvZeAddgztwzL",
   "collapsed_sections": [],
   "name": "U Nets.ipynb",
   "provenance": []
  },
  "kernelspec": {
   "display_name": "Python 3",
   "language": "python",
   "name": "python3"
  },
  "language_info": {
   "codemirror_mode": {
    "name": "ipython",
    "version": 3
   },
   "file_extension": ".py",
   "mimetype": "text/x-python",
   "name": "python",
   "nbconvert_exporter": "python",
   "pygments_lexer": "ipython3",
   "version": "3.8.8"
  }
 },
 "nbformat": 4,
 "nbformat_minor": 1
}
